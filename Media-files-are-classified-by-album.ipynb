{
 "cells": [
  {
   "cell_type": "markdown",
   "metadata": {},
   "source": [
    "功能：将一个文件夹下，多个音乐文件按照不同专辑名称分类"
   ]
  },
  {
   "cell_type": "code",
   "execution_count": 1,
   "metadata": {
    "collapsed": true
   },
   "outputs": [],
   "source": [
    "import pymediainfo\n",
    "import os"
   ]
  },
  {
   "cell_type": "markdown",
   "metadata": {},
   "source": [
    "pymediainfo模块的使用文档链接\n",
    "\n",
    "https://buildmedia.readthedocs.org/media/pdf/pymediainfo/stable/pymediainfo.pdf"
   ]
  },
  {
   "cell_type": "markdown",
   "metadata": {},
   "source": [
    "pymediainfo模块的安装方式\n",
    "\n",
    "pip install pymediainfo"
   ]
  },
  {
   "cell_type": "code",
   "execution_count": 27,
   "metadata": {},
   "outputs": [],
   "source": [
    "# 获取dirpath下所有媒体文件的路径及文件名\n",
    "\n",
    "dirpath = \"C:\\\\Users\\\\luobi\\\\Desktop\\\\wait\"   #路径名 （提交到github上写成函数传参式）\n",
    "\n",
    "list_media_path = [];\n",
    "\n",
    "for root,dirs,files in os.walk(dirpath):\n",
    "    for file in files:\n",
    "        dirpath = \"C:/Users/luobi/Desktop/wait/\"  #此处逻辑需要优化---------------------------------------\n",
    "        list_media_path.append(dirpath + file)\n",
    "\n",
    "list_media_file_dict = [];\n",
    "list_media_album = [];  # 存储所有媒体文件的专辑\n",
    "        \n",
    "for media_path in list_media_path:\n",
    "    media_file = pymediainfo.MediaInfo.parse(media_path)\n",
    "    list_media_file_dict.append(media_file.to_data())\n",
    "    list_media_album.append(media_file.to_data()['tracks'][0]['album']) \n",
    "    \n",
    "    \n",
    "# 将所有的专辑名称创建文件夹（文件夹创建失败怎么办？）\n",
    "\n",
    "# 将每首音乐移动到对应专辑文件夹下（文件夹不存在怎么办？即上一步文件夹创建失败）\n"
   ]
  },
  {
   "cell_type": "code",
   "execution_count": 22,
   "metadata": {},
   "outputs": [
    {
     "data": {
      "text/plain": [
       "'誠-MAKOTO- Singles Best vol.5 ～善悪の頂にある真実～'"
      ]
     },
     "execution_count": 22,
     "metadata": {},
     "output_type": "execute_result"
    }
   ],
   "source": [
    "list_media_album_dict[400]   # 对应音乐的专辑名称"
   ]
  },
  {
   "cell_type": "code",
   "execution_count": 28,
   "metadata": {},
   "outputs": [
    {
     "data": {
      "text/plain": [
       "{'tracks': [{'album': '誠-MAKOTO- Singles Best vol.5 ～善悪の頂にある真実～',\n",
       "   'audio_codecs': 'FLAC',\n",
       "   'audio_format_list': 'FLAC',\n",
       "   'audio_format_withhint_list': 'FLAC',\n",
       "   'commercial_name': 'FLAC',\n",
       "   'complete_name': 'C:/Users/luobi/Desktop/wait/兎明 - 胸の中で誰かが.flac',\n",
       "   'count': '331',\n",
       "   'count_of_audio_streams': '1',\n",
       "   'count_of_stream_of_this_kind': '1',\n",
       "   'cover': 'Yes',\n",
       "   'cover_mime': 'image/jpeg',\n",
       "   'cover_type': 'Cover (front)',\n",
       "   'description': \"163 key(Don't modify):L64FU3W4YxX3ZFTmbZ+8/eVFRXr2kLyAcfSYlnjFRGtwFwv8Sm2m9oVwEkN8edqLsVgFbqD/N50nrz2mzmHv+gr/BY2DIYdmo5daneikJiAztDCfdY6cj4//ZCRTPrf9PNJPWd6Oo9aM2BjVdZiViSCzWrkCYxQUjGKNxsVkIqZpSN/HuIgPok7Y5bSPHMqFQBdhns0zAFYzp8i9y7grIafyD4o1uLmYego4mTDrQLApro68Sqv3/hHc9eqztYEUngayVOQWfrB/8JWpAZQjm/sAAvWFXEnGYqh7iERE63X08SvXi+lJq+PNzlYJji4KmIPcdpWtBLNkiw0KGEHWW1DWyfeL6ikHl5KmjeUMJ3e7TJTKHrsvU8UUia0B0pufAo0pITFdJf/8255dlHzTpcFYTvhPMp1w9m7pm7NXcyMFBmutNSeymciff02yyHmU0whGlsB2jcEjt+35C/PSOfIKWsBSOfDq9IOlfbF0dfZj+kTaLF7yrRBNBz5Aj66RQ4LAM1NndK0Z53gDsXw91d72XP3fK2ZnpudRfD9EvAxhMokAMrfQTMQvDgHUCUt3GSaPbSWvbWKJiVSlHioqGA==\",\n",
       "   'duration': 310000,\n",
       "   'file_creation_date': 'UTC 2019-04-08 15:13:28.377',\n",
       "   'file_creation_date__local': '2019-04-08 23:13:28.377',\n",
       "   'file_extension': 'flac',\n",
       "   'file_last_modification_date': 'UTC 2019-04-08 15:13:28.374',\n",
       "   'file_last_modification_date__local': '2019-04-08 23:13:28.374',\n",
       "   'file_name': 'C:/Users/luobi/Desktop/wait/兎明 - 胸の中で誰かが',\n",
       "   'file_name_extension': 'C:/Users/luobi/Desktop/wait/兎明 - 胸の中で誰かが.flac',\n",
       "   'file_size': 45264351,\n",
       "   'format': 'FLAC',\n",
       "   'format_extensions_usually_used': 'fla flac',\n",
       "   'format_info': 'Free Lossless Audio Codec',\n",
       "   'format_url': 'https://xiph.org/flac/',\n",
       "   'internet_media_type': 'audio/x-flac',\n",
       "   'kind_of_stream': 'General',\n",
       "   'other_duration': ['5 min 10 s',\n",
       "    '5 min 10 s 0 ms',\n",
       "    '5 min 10 s',\n",
       "    '00:05:10.000',\n",
       "    '00:05:10.000'],\n",
       "   'other_file_size': ['43.2 MiB',\n",
       "    '43 MiB',\n",
       "    '43 MiB',\n",
       "    '43.2 MiB',\n",
       "    '43.17 MiB'],\n",
       "   'other_format': ['FLAC'],\n",
       "   'other_kind_of_stream': ['General'],\n",
       "   'other_overall_bit_rate': ['1 168 kb/s'],\n",
       "   'other_overall_bit_rate_mode': ['Variable'],\n",
       "   'other_stream_size': ['0.00 Byte (0%)',\n",
       "    ' Byte0',\n",
       "    '0.0 Byte',\n",
       "    '0.00 Byte',\n",
       "    '0.000 Byte',\n",
       "    '0.00 Byte (0%)'],\n",
       "   'other_writing_application': ['Lavf57.71.100'],\n",
       "   'overall_bit_rate': 1168112,\n",
       "   'overall_bit_rate_mode': 'VBR',\n",
       "   'performer': '兎明',\n",
       "   'proportion_of_this_stream': '0.00000',\n",
       "   'stream_identifier': '0',\n",
       "   'stream_size': 0,\n",
       "   'title': '胸の中で誰かが',\n",
       "   'track_name': '胸の中で誰かが',\n",
       "   'track_name_position': '6',\n",
       "   'track_type': 'General',\n",
       "   'writing_application': 'Lavf57.71.100'},\n",
       "  {'bit_depth': 16,\n",
       "   'bit_rate': 1145392,\n",
       "   'bit_rate_mode': 'VBR',\n",
       "   'channel_layout': 'L R',\n",
       "   'channel_positions': 'Front: L R',\n",
       "   'channel_s': 2,\n",
       "   'commercial_name': 'FLAC',\n",
       "   'compression_mode': 'Lossless',\n",
       "   'count': '280',\n",
       "   'count_of_stream_of_this_kind': '1',\n",
       "   'duration': 310000,\n",
       "   'format': 'FLAC',\n",
       "   'format_info': 'Free Lossless Audio Codec',\n",
       "   'format_url': 'https://xiph.org/flac/',\n",
       "   'internet_media_type': 'audio/x-flac',\n",
       "   'kind_of_stream': 'Audio',\n",
       "   'other_bit_depth': ['16 bits'],\n",
       "   'other_bit_rate': ['1 145 kb/s'],\n",
       "   'other_bit_rate_mode': ['Variable'],\n",
       "   'other_channel_positions': ['2/0/0'],\n",
       "   'other_channel_s': ['2 channels'],\n",
       "   'other_compression_mode': ['Lossless'],\n",
       "   'other_duration': ['5 min 10 s',\n",
       "    '5 min 10 s 0 ms',\n",
       "    '5 min 10 s',\n",
       "    '00:05:10.000',\n",
       "    '00:05:10.000'],\n",
       "   'other_format': ['FLAC'],\n",
       "   'other_kind_of_stream': ['Audio'],\n",
       "   'other_sampling_rate': ['44.1 kHz'],\n",
       "   'other_stream_size': ['42.3 MiB (98%)',\n",
       "    '42 MiB',\n",
       "    '42 MiB',\n",
       "    '42.3 MiB',\n",
       "    '42.33 MiB',\n",
       "    '42.3 MiB (98%)'],\n",
       "   'other_writing_library': ['Lavf57.71.100'],\n",
       "   'proportion_of_this_stream': '0.98055',\n",
       "   'samples_count': '13671000',\n",
       "   'sampling_rate': 44100,\n",
       "   'stream_identifier': '0',\n",
       "   'stream_size': 44383955,\n",
       "   'track_type': 'Audio',\n",
       "   'writing_library': 'Lavf57.71.100'}]}"
      ]
     },
     "execution_count": 28,
     "metadata": {},
     "output_type": "execute_result"
    }
   ],
   "source": [
    "list_media_file_dict[400]    # 对应媒体文件的具体描述"
   ]
  },
  {
   "cell_type": "code",
   "execution_count": null,
   "metadata": {
    "collapsed": true
   },
   "outputs": [],
   "source": []
  }
 ],
 "metadata": {
  "kernelspec": {
   "display_name": "Python 3",
   "language": "python",
   "name": "python3"
  },
  "language_info": {
   "codemirror_mode": {
    "name": "ipython",
    "version": 3
   },
   "file_extension": ".py",
   "mimetype": "text/x-python",
   "name": "python",
   "nbconvert_exporter": "python",
   "pygments_lexer": "ipython3",
   "version": "3.6.3"
  }
 },
 "nbformat": 4,
 "nbformat_minor": 2
}
