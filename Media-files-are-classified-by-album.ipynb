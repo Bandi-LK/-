{
 "cells": [
  {
   "cell_type": "markdown",
   "metadata": {},
   "source": [
    "功能：将一个文件夹下，多个音乐文件按照不同专辑名称分类"
   ]
  },
  {
   "cell_type": "code",
   "execution_count": 5,
   "metadata": {},
   "outputs": [],
   "source": [
    "import pymediainfo\n",
    "import os\n",
    "import re\n",
    "import shutil"
   ]
  },
  {
   "cell_type": "markdown",
   "metadata": {},
   "source": [
    "pymediainfo模块的使用文档链接\n",
    "\n",
    "https://buildmedia.readthedocs.org/media/pdf/pymediainfo/stable/pymediainfo.pdf"
   ]
  },
  {
   "cell_type": "markdown",
   "metadata": {},
   "source": [
    "pymediainfo模块的安装方式\n",
    "\n",
    "pip install pymediainfo"
   ]
  },
  {
   "cell_type": "code",
   "execution_count": 6,
   "metadata": {},
   "outputs": [],
   "source": [
    "'''\n",
    "新建目录功能(自动忽略dir_name中的无效字符)\n",
    "dir_path 输入目录路径\n",
    "dir_name 输入文件\n",
    "'''\n",
    "def mkdir(dir_path, dir_name):\n",
    "\n",
    "    # 删掉开头和结尾的空格\n",
    "    dir_name = dir_name.strip()\n",
    "    \n",
    "    # 利用正则模块过滤掉windows系统非法字符\n",
    "    dir_name = re.sub('[\\/:*?\"<>|]', '-', dir_name)\n",
    " \n",
    "    # 判断路径是否存在\n",
    "    dir_path = dir_path + dir_name\n",
    "    is_exists = os.path.exists(dir_path)\n",
    " \n",
    "    # 如果目录不存在，新建目录并返回True\n",
    "    if not is_exists:\n",
    "        os.makedirs(dir_path) \n",
    "#         print(dir_path + \" 目录创建成功\") \n",
    "        return True\n",
    "    \n",
    "    # 如果目录存在，新建目录失败，提示已存在并返回FALSE\n",
    "#     print(dir_path + \" 目录已存在\") \n",
    "    return False"
   ]
  },
  {
   "cell_type": "code",
   "execution_count": 7,
   "metadata": {},
   "outputs": [],
   "source": [
    "'''\n",
    "获取dir_path下所有媒体文件的路径及文件名,返回所有媒体文件的专辑\n",
    "dir_path 输入目录路径\n",
    "'''\n",
    "def getAllMediaFileAlbum(dir_path):\n",
    "    \n",
    "    list_media_path = [];       # 存储本目录下媒体文件路径\n",
    "\n",
    "    # 爬取整个目录下面的所有文件名称\n",
    "    for list_root, list_dir, list_file in os.walk(dir_path):\n",
    "        for file in list_file:\n",
    "            # 将所有媒体文件路径记录到list_media_path中\n",
    "            list_media_path.append(dir_path + file)\n",
    "\n",
    "\n",
    "    list_media_file_dict = [];   # 存储所有媒体文件详细内容\n",
    "    list_media_album = [];       # 存储所有媒体文件的专辑\n",
    "\n",
    "    # 读取每个媒体文件的详细信息，分别记录详细信息和专辑\n",
    "    for media_path in list_media_path:\n",
    "        media_file = pymediainfo.MediaInfo.parse(media_path)\n",
    "        list_media_file_dict.append(media_file.to_data())\n",
    "        try: \n",
    "            list_media_album.append(media_file.to_data()['tracks'][0]['album']) \n",
    "        except Exception: \n",
    "#             print(Exception)\n",
    "            continue\n",
    "    \n",
    "    # 返回媒体文件专辑\n",
    "    return list_media_album"
   ]
  },
  {
   "cell_type": "code",
   "execution_count": 8,
   "metadata": {},
   "outputs": [],
   "source": [
    "'''\n",
    "将media_file_dir_path下的媒体文件根据专辑名称放到对应的专辑文件夹下\n",
    "media_file_dir_path 媒体文件路径 \n",
    "result_dir_path 分类结果路径\n",
    "'''\n",
    "def moveFilesToAlbumDir(media_file_dir_path, classify_result_dir_path):\n",
    "    \n",
    "    # 遍历dir_path下所有的媒体文件，根据删除windows非法字符后的专辑名称，保存到对应的文件夹下\n",
    "    \n",
    "    # 爬取整个目录下面的所有文件名称\n",
    "    for list_root, list_dir, list_file in os.walk(media_file_dir_path):\n",
    "        for file in list_file:\n",
    "            # 记录文件路径\n",
    "            file_path = media_file_dir_path + file\n",
    "            # 记录当前媒体文件信息\n",
    "            media_file = pymediainfo.MediaInfo.parse(file_path)\n",
    "            try: \n",
    "                # 记录当前媒体文件专辑名称\n",
    "                media_album_name = media_file.to_data()['tracks'][0]['album']\n",
    "            except Exception: \n",
    "#                 print(Exception)\n",
    "                continue\n",
    "            # 得到当前媒体文件应该移动到的目录\n",
    "            media_album_name = media_album_name.strip()\n",
    "            media_album_dir_name = re.sub('[\\/:*?\"<>|]', '-', media_album_name)\n",
    "            media_album_dir_path = classify_result_dir_path + media_album_dir_name\n",
    "            # 移动文件\n",
    "            shutil.move(file_path, media_album_dir_path)"
   ]
  },
  {
   "cell_type": "code",
   "execution_count": 9,
   "metadata": {
    "scrolled": false
   },
   "outputs": [],
   "source": [
    "media_file_dir_path = \"C:/Users/luobi/Desktop/CloudMusic/\"   # 媒体文件路径 \n",
    "classify_result_dir_path = \"C:/Users/luobi/Desktop/CloudMusic_classific/\" # 分类结果路径\n",
    "\n",
    "# 获取dir_path下所有媒体文件的路径及文件名,返回所有媒体文件的专辑\n",
    "list_media_album = getAllMediaFileAlbum(media_file_dir_path)\n",
    "\n",
    "\n",
    "# 将所有的专辑名称创建文件夹\n",
    "for media_album in list_media_album:\n",
    "    mkdir(classify_result_dir_path, media_album)\n",
    "    \n",
    "    \n",
    "# 将每首音乐移动到对应专辑文件夹下\n",
    "moveFilesToAlbumDir(media_file_dir_path, classify_result_dir_path)"
   ]
  },
  {
   "cell_type": "code",
   "execution_count": null,
   "metadata": {
    "collapsed": true
   },
   "outputs": [],
   "source": []
  }
 ],
 "metadata": {
  "kernelspec": {
   "display_name": "Python 3",
   "language": "python",
   "name": "python3"
  },
  "language_info": {
   "codemirror_mode": {
    "name": "ipython",
    "version": 3
   },
   "file_extension": ".py",
   "mimetype": "text/x-python",
   "name": "python",
   "nbconvert_exporter": "python",
   "pygments_lexer": "ipython3",
   "version": "3.7.6"
  }
 },
 "nbformat": 4,
 "nbformat_minor": 2
}
